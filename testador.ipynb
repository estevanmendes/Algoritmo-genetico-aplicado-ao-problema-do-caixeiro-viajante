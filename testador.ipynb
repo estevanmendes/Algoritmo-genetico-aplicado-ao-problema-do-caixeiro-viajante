{
 "metadata": {
  "language_info": {
   "codemirror_mode": {
    "name": "ipython",
    "version": 3
   },
   "file_extension": ".py",
   "mimetype": "text/x-python",
   "name": "python",
   "nbconvert_exporter": "python",
   "pygments_lexer": "ipython3",
   "version": "3.7.9-final"
  },
  "orig_nbformat": 2,
  "kernelspec": {
   "name": "python3",
   "display_name": "Python 3.7.9 64-bit ('myenv': conda)",
   "metadata": {
    "interpreter": {
     "hash": "a507cdf376b69cecd2c89e7a1051eae61b266665cfe46f78fefb4235d6785f29"
    }
   }
  }
 },
 "nbformat": 4,
 "nbformat_minor": 2,
 "cells": [
  {
   "cell_type": "code",
   "execution_count": 1,
   "metadata": {},
   "outputs": [],
   "source": [
    "from ga import Genetic_algorithm,Crossover"
   ]
  },
  {
   "cell_type": "code",
   "execution_count": 6,
   "metadata": {},
   "outputs": [],
   "source": [
    "teste=Crossover(number_of_city=100,population_size=10,generations=2)"
   ]
  },
  {
   "cell_type": "code",
   "execution_count": 10,
   "metadata": {},
   "outputs": [
    {
     "output_type": "execute_result",
     "data": {
      "text/plain": [
       "array([[1742.20855117, 2615.1161994 ,   10.47613268,  876.34234192],\n",
       "       [1742.90662298, 2615.81427121,    4.15719436,  870.02340361],\n",
       "       [1737.84531491, 2610.75296314,    6.11289642,  871.97910567],\n",
       "       [1743.67246281, 2616.58011104,   11.94004432,  877.80625356],\n",
       "       [1742.60392913, 2608.47013837,   10.87151064,  876.73771988],\n",
       "       [2604.64006672, 3477.54771495,  865.86620925, 1731.73241849],\n",
       "       [1766.0377281 , 2638.94537633,   21.73523894,  893.13007987],\n",
       "       [1747.0604137 , 2619.96806193,    8.28655622,  874.15276547],\n",
       "       [1746.51425755, 2619.42190578,    7.74040008,  873.60660932],\n",
       "       [1748.68341717, 2621.5910654 ,    9.9095597 ,  875.77576894]])"
      ]
     },
     "metadata": {},
     "execution_count": 10
    }
   ],
   "source": [
    "teste.run(crossover_function=teste.SCRX,first_round=False)\n",
    "teste.fitness_history"
   ]
  },
  {
   "cell_type": "code",
   "execution_count": null,
   "metadata": {},
   "outputs": [],
   "source": []
  }
 ]
}